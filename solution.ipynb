{
 "cells": [
  {
   "cell_type": "code",
   "execution_count": 5,
   "source": [
    "import pandas as pd\r\n",
    "from sklearn.preprocessing import StandardScaler"
   ],
   "outputs": [],
   "metadata": {}
  },
  {
   "cell_type": "code",
   "execution_count": 8,
   "source": [
    "# I have made a copy of the data without log transform in the last exercise to apply the normalization to the original data.\r\n",
    "customer_marketing_data = pd.read_csv('customer_marketing_data_cleaned.csv').drop(columns = ['Unnamed: 0'])"
   ],
   "outputs": [],
   "metadata": {}
  },
  {
   "cell_type": "code",
   "execution_count": 10,
   "source": [
    "target = 'Total Claim Amount'\r\n",
    "\r\n",
    "y = customer_marketing_data[target]\r\n",
    "X = customer_marketing_data.drop(columns = [target])"
   ],
   "outputs": [],
   "metadata": {}
  },
  {
   "cell_type": "code",
   "execution_count": 13,
   "source": [
    "transformer = StandardScaler()\r\n",
    "x_transformed = transformer.fit_transform(X)\r\n",
    "x_transformed = pd.DataFrame(data = x_transformed, columns = X.columns)"
   ],
   "outputs": [],
   "metadata": {}
  },
  {
   "cell_type": "code",
   "execution_count": 14,
   "source": [
    "x_transformed"
   ],
   "outputs": [
    {
     "output_type": "execute_result",
     "data": {
      "text/plain": [
       "        Income  Customer Lifetime Value  Monthly Premium Auto\n",
       "0     0.612827                -0.762878             -0.703925\n",
       "1    -1.239617                -0.149245              0.022691\n",
       "2     0.365710                 0.710636              0.429596\n",
       "3    -1.239617                -0.052263              0.371467\n",
       "4     0.203390                -0.755575             -0.587666\n",
       "...        ...                      ...                   ...\n",
       "9129  1.128558                 2.241590             -0.587666\n",
       "9130 -0.528450                -0.714411             -0.413278\n",
       "9131 -1.239617                 0.023135             -0.238891\n",
       "9132 -0.517356                -0.069935              0.080820\n",
       "9133 -1.239617                -0.784955             -0.471408\n",
       "\n",
       "[9134 rows x 3 columns]"
      ],
      "text/html": [
       "<div>\n",
       "<style scoped>\n",
       "    .dataframe tbody tr th:only-of-type {\n",
       "        vertical-align: middle;\n",
       "    }\n",
       "\n",
       "    .dataframe tbody tr th {\n",
       "        vertical-align: top;\n",
       "    }\n",
       "\n",
       "    .dataframe thead th {\n",
       "        text-align: right;\n",
       "    }\n",
       "</style>\n",
       "<table border=\"1\" class=\"dataframe\">\n",
       "  <thead>\n",
       "    <tr style=\"text-align: right;\">\n",
       "      <th></th>\n",
       "      <th>Income</th>\n",
       "      <th>Customer Lifetime Value</th>\n",
       "      <th>Monthly Premium Auto</th>\n",
       "    </tr>\n",
       "  </thead>\n",
       "  <tbody>\n",
       "    <tr>\n",
       "      <th>0</th>\n",
       "      <td>0.612827</td>\n",
       "      <td>-0.762878</td>\n",
       "      <td>-0.703925</td>\n",
       "    </tr>\n",
       "    <tr>\n",
       "      <th>1</th>\n",
       "      <td>-1.239617</td>\n",
       "      <td>-0.149245</td>\n",
       "      <td>0.022691</td>\n",
       "    </tr>\n",
       "    <tr>\n",
       "      <th>2</th>\n",
       "      <td>0.365710</td>\n",
       "      <td>0.710636</td>\n",
       "      <td>0.429596</td>\n",
       "    </tr>\n",
       "    <tr>\n",
       "      <th>3</th>\n",
       "      <td>-1.239617</td>\n",
       "      <td>-0.052263</td>\n",
       "      <td>0.371467</td>\n",
       "    </tr>\n",
       "    <tr>\n",
       "      <th>4</th>\n",
       "      <td>0.203390</td>\n",
       "      <td>-0.755575</td>\n",
       "      <td>-0.587666</td>\n",
       "    </tr>\n",
       "    <tr>\n",
       "      <th>...</th>\n",
       "      <td>...</td>\n",
       "      <td>...</td>\n",
       "      <td>...</td>\n",
       "    </tr>\n",
       "    <tr>\n",
       "      <th>9129</th>\n",
       "      <td>1.128558</td>\n",
       "      <td>2.241590</td>\n",
       "      <td>-0.587666</td>\n",
       "    </tr>\n",
       "    <tr>\n",
       "      <th>9130</th>\n",
       "      <td>-0.528450</td>\n",
       "      <td>-0.714411</td>\n",
       "      <td>-0.413278</td>\n",
       "    </tr>\n",
       "    <tr>\n",
       "      <th>9131</th>\n",
       "      <td>-1.239617</td>\n",
       "      <td>0.023135</td>\n",
       "      <td>-0.238891</td>\n",
       "    </tr>\n",
       "    <tr>\n",
       "      <th>9132</th>\n",
       "      <td>-0.517356</td>\n",
       "      <td>-0.069935</td>\n",
       "      <td>0.080820</td>\n",
       "    </tr>\n",
       "    <tr>\n",
       "      <th>9133</th>\n",
       "      <td>-1.239617</td>\n",
       "      <td>-0.784955</td>\n",
       "      <td>-0.471408</td>\n",
       "    </tr>\n",
       "  </tbody>\n",
       "</table>\n",
       "<p>9134 rows × 3 columns</p>\n",
       "</div>"
      ]
     },
     "metadata": {},
     "execution_count": 14
    }
   ],
   "metadata": {}
  }
 ],
 "metadata": {
  "orig_nbformat": 4,
  "language_info": {
   "name": "python",
   "version": "3.7.6",
   "mimetype": "text/x-python",
   "codemirror_mode": {
    "name": "ipython",
    "version": 3
   },
   "pygments_lexer": "ipython3",
   "nbconvert_exporter": "python",
   "file_extension": ".py"
  },
  "kernelspec": {
   "name": "python3",
   "display_name": "Python 3.7.6 64-bit ('ironhack_environment': venv)"
  },
  "interpreter": {
   "hash": "df81bf56b2521791aaa0ff1ac8d57256f917b61d33ad24d6b6d13191d105bbf2"
  }
 },
 "nbformat": 4,
 "nbformat_minor": 2
}