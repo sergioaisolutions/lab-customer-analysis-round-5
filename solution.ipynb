{
 "cells": [
  {
   "cell_type": "code",
   "execution_count": 4,
   "source": [
    "import pandas as pd\r\n",
    "from sklearn.preprocessing import StandardScaler"
   ],
   "outputs": [],
   "metadata": {}
  },
  {
   "cell_type": "code",
   "execution_count": 5,
   "source": [
    "# I have made a copy of the data without log transform in the last exercise to apply the normalization to the original data.\r\n",
    "customer_marketing_data = pd.read_csv('numerical_data_log.csv')"
   ],
   "outputs": [],
   "metadata": {}
  },
  {
   "cell_type": "code",
   "execution_count": 6,
   "source": [
    "target = 'Total Claim Amount_log'\r\n",
    "\r\n",
    "y = customer_marketing_data[target]\r\n",
    "X = customer_marketing_data.drop(columns = [target])"
   ],
   "outputs": [],
   "metadata": {}
  },
  {
   "cell_type": "code",
   "execution_count": 7,
   "source": [
    "transformer = StandardScaler()\r\n",
    "x_transformed = transformer.fit_transform(X)\r\n",
    "x_transformed = pd.DataFrame(data = x_transformed, columns = X.columns)"
   ],
   "outputs": [],
   "metadata": {}
  },
  {
   "cell_type": "code",
   "execution_count": 8,
   "source": [
    "x_transformed"
   ],
   "outputs": [
    {
     "output_type": "execute_result",
     "data": {
      "text/plain": [
       "      Income_log  Customer Lifetime Value_log  Monthly Premium Auto_log\n",
       "0       0.517453                    -1.262556                 -0.805949\n",
       "1       0.000000                     0.156500                  0.197943\n",
       "2       0.213513                     1.095826                  0.648726\n",
       "3       0.000000                     0.296160                  0.588035\n",
       "4      -0.012775                    -1.234997                 -0.622978\n",
       "...          ...                          ...                       ...\n",
       "9129    1.038842                     2.009832                 -0.622978\n",
       "9130   -1.514822                    -1.088297                 -0.366514\n",
       "9131    0.000000                     0.396571                 -0.128832\n",
       "9132   -1.481964                     0.271642                  0.266301\n",
       "9133    0.000000                    -1.349021                 -0.449771\n",
       "\n",
       "[9134 rows x 3 columns]"
      ],
      "text/html": [
       "<div>\n",
       "<style scoped>\n",
       "    .dataframe tbody tr th:only-of-type {\n",
       "        vertical-align: middle;\n",
       "    }\n",
       "\n",
       "    .dataframe tbody tr th {\n",
       "        vertical-align: top;\n",
       "    }\n",
       "\n",
       "    .dataframe thead th {\n",
       "        text-align: right;\n",
       "    }\n",
       "</style>\n",
       "<table border=\"1\" class=\"dataframe\">\n",
       "  <thead>\n",
       "    <tr style=\"text-align: right;\">\n",
       "      <th></th>\n",
       "      <th>Income_log</th>\n",
       "      <th>Customer Lifetime Value_log</th>\n",
       "      <th>Monthly Premium Auto_log</th>\n",
       "    </tr>\n",
       "  </thead>\n",
       "  <tbody>\n",
       "    <tr>\n",
       "      <th>0</th>\n",
       "      <td>0.517453</td>\n",
       "      <td>-1.262556</td>\n",
       "      <td>-0.805949</td>\n",
       "    </tr>\n",
       "    <tr>\n",
       "      <th>1</th>\n",
       "      <td>0.000000</td>\n",
       "      <td>0.156500</td>\n",
       "      <td>0.197943</td>\n",
       "    </tr>\n",
       "    <tr>\n",
       "      <th>2</th>\n",
       "      <td>0.213513</td>\n",
       "      <td>1.095826</td>\n",
       "      <td>0.648726</td>\n",
       "    </tr>\n",
       "    <tr>\n",
       "      <th>3</th>\n",
       "      <td>0.000000</td>\n",
       "      <td>0.296160</td>\n",
       "      <td>0.588035</td>\n",
       "    </tr>\n",
       "    <tr>\n",
       "      <th>4</th>\n",
       "      <td>-0.012775</td>\n",
       "      <td>-1.234997</td>\n",
       "      <td>-0.622978</td>\n",
       "    </tr>\n",
       "    <tr>\n",
       "      <th>...</th>\n",
       "      <td>...</td>\n",
       "      <td>...</td>\n",
       "      <td>...</td>\n",
       "    </tr>\n",
       "    <tr>\n",
       "      <th>9129</th>\n",
       "      <td>1.038842</td>\n",
       "      <td>2.009832</td>\n",
       "      <td>-0.622978</td>\n",
       "    </tr>\n",
       "    <tr>\n",
       "      <th>9130</th>\n",
       "      <td>-1.514822</td>\n",
       "      <td>-1.088297</td>\n",
       "      <td>-0.366514</td>\n",
       "    </tr>\n",
       "    <tr>\n",
       "      <th>9131</th>\n",
       "      <td>0.000000</td>\n",
       "      <td>0.396571</td>\n",
       "      <td>-0.128832</td>\n",
       "    </tr>\n",
       "    <tr>\n",
       "      <th>9132</th>\n",
       "      <td>-1.481964</td>\n",
       "      <td>0.271642</td>\n",
       "      <td>0.266301</td>\n",
       "    </tr>\n",
       "    <tr>\n",
       "      <th>9133</th>\n",
       "      <td>0.000000</td>\n",
       "      <td>-1.349021</td>\n",
       "      <td>-0.449771</td>\n",
       "    </tr>\n",
       "  </tbody>\n",
       "</table>\n",
       "<p>9134 rows × 3 columns</p>\n",
       "</div>"
      ]
     },
     "metadata": {},
     "execution_count": 8
    }
   ],
   "metadata": {}
  },
  {
   "cell_type": "code",
   "execution_count": 11,
   "source": [
    "x_transformed.to_csv('numerical_data_log_norm.csv')"
   ],
   "outputs": [],
   "metadata": {}
  }
 ],
 "metadata": {
  "orig_nbformat": 4,
  "language_info": {
   "name": "python",
   "version": "3.7.6",
   "mimetype": "text/x-python",
   "codemirror_mode": {
    "name": "ipython",
    "version": 3
   },
   "pygments_lexer": "ipython3",
   "nbconvert_exporter": "python",
   "file_extension": ".py"
  },
  "kernelspec": {
   "name": "python3",
   "display_name": "Python 3.7.6 64-bit ('ironhack_environment': venv)"
  },
  "interpreter": {
   "hash": "df81bf56b2521791aaa0ff1ac8d57256f917b61d33ad24d6b6d13191d105bbf2"
  }
 },
 "nbformat": 4,
 "nbformat_minor": 2
}